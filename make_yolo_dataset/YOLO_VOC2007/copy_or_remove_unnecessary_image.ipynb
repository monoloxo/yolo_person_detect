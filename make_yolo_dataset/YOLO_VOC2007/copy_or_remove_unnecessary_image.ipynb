{
 "cells": [
  {
   "cell_type": "code",
   "execution_count": 2,
   "metadata": {},
   "outputs": [],
   "source": [
    "import os"
   ]
  },
  {
   "cell_type": "code",
   "execution_count": 13,
   "metadata": {},
   "outputs": [
    {
     "name": "stdout",
     "output_type": "stream",
     "text": [
      "000302.jpg\n",
      "True\n"
     ]
    }
   ],
   "source": [
    "#############################   copy   #####################################\n",
    "labels = 'VOCdevkit/VOC2007/labels'\n",
    "images = 'VOCdevkit/VOC2007/JPEGImages'\n",
    "for file in os.listdir(labels):\n",
    "    f = file[:-4]\n",
    "    #print(f)\n",
    "    fi = f + '.jpg'\n",
    "    print(fi)\n",
    "    tf = fi in os.listdir(images)\n",
    "        #tf = f in im\n",
    "    print(tf)\n",
    "    break"
   ]
  },
  {
   "cell_type": "code",
   "execution_count": 20,
   "metadata": {},
   "outputs": [
    {
     "data": {
      "text/plain": [
       "'VOCdevkit/VOC2007/img/000302.jpg'"
      ]
     },
     "execution_count": 20,
     "metadata": {},
     "output_type": "execute_result"
    }
   ],
   "source": [
    "import shutil\n",
    "shutil.copy('VOCdevkit/VOC2007/JPEGImages/000302.jpg','VOCdevkit/VOC2007/img')\n"
   ]
  },
  {
   "cell_type": "code",
   "execution_count": 22,
   "metadata": {},
   "outputs": [],
   "source": [
    "##################################   remove   ##################################\n",
    "\n",
    "labels = 'VOCdevkit/VOC2007/labels'\n",
    "images = 'VOCdevkit/VOC2007/images'\n",
    "for img in os.listdir(images):\n",
    "    i = img[:-4]\n",
    "    it = i + '.txt'\n",
    "    if it not in os.listdir(labels):\n",
    "        os.remove(os.path.join(images,img))"
   ]
  },
  {
   "cell_type": "code",
   "execution_count": 1,
   "metadata": {},
   "outputs": [],
   "source": [
    "import cv2\n",
    "im = cv2.imread('VOCdevkit/VOC2007/images/000001.jpg')\n",
    "cv2.imshow('img',im)\n",
    "cv2.waitKey(0)\n",
    "cv2.destroyAllWindows()\n"
   ]
  },
  {
   "cell_type": "code",
   "execution_count": 5,
   "metadata": {},
   "outputs": [],
   "source": [
    "## write train_images.txt\n",
    "\n",
    "images = 'VOCdevkit/VOC2007/images'\n",
    "\n",
    "fo = open(\"train_images.txt\", \"w\")\n",
    "ss = []\n",
    "for i in os.listdir(images):\n",
    "    str1 = '\\ndata/train_images/{}'.format(i)\n",
    "    ss.append(str1)\n",
    "ss.sort()\n",
    "fo.writelines(ss)\n",
    "fo.close()"
   ]
  },
  {
   "cell_type": "code",
   "execution_count": 17,
   "metadata": {},
   "outputs": [
    {
     "name": "stdout",
     "output_type": "stream",
     "text": [
      "1*1=1 \n",
      "1*2=2  2*2=4 \n",
      "1*3=3  2*3=6  3*3=9 \n",
      "1*4=4  2*4=8  3*4=12 4*4=16\n",
      "1*5=5  2*5=10 3*5=15 4*5=20 5*5=25\n",
      "1*6=6  2*6=12 3*6=18 4*6=24 5*6=30 6*6=36\n",
      "1*7=7  2*7=14 3*7=21 4*7=28 5*7=35 6*7=42 7*7=49\n",
      "1*8=8  2*8=16 3*8=24 4*8=32 5*8=40 6*8=48 7*8=56 8*8=64\n",
      "1*9=9  2*9=18 3*9=27 4*9=36 5*9=45 6*9=54 7*9=63 8*9=72 9*9=81\n"
     ]
    }
   ],
   "source": [
    "print('\\n'.join([' '.join(['%s*%s=%-2s'%(y,x,x*y) for y in range(1,x+1)]) for x in range(1,10)]))"
   ]
  },
  {
   "cell_type": "code",
   "execution_count": null,
   "metadata": {},
   "outputs": [],
   "source": []
  }
 ],
 "metadata": {
  "kernelspec": {
   "display_name": "Python 3",
   "language": "python",
   "name": "python3"
  },
  "language_info": {
   "codemirror_mode": {
    "name": "ipython",
    "version": 3
   },
   "file_extension": ".py",
   "mimetype": "text/x-python",
   "name": "python",
   "nbconvert_exporter": "python",
   "pygments_lexer": "ipython3",
   "version": "3.7.3"
  }
 },
 "nbformat": 4,
 "nbformat_minor": 2
}
